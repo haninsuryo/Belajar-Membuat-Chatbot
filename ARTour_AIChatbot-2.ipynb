{
  "nbformat": 4,
  "nbformat_minor": 0,
  "metadata": {
    "accelerator": "GPU",
    "colab": {
      "name": "ARTour-AIChatbot.ipynb",
      "provenance": []
    },
    "kernelspec": {
      "display_name": "Python 3",
      "name": "python3"
    },
    "language_info": {
      "name": "python"
    }
  },
  "cells": [
    {
      "cell_type": "markdown",
      "metadata": {
        "id": "j6n6wycgqhpi"
      },
      "source": [
        "<center> <img src= 'http://snapengage.com/wp-content/uploads/2020/01/what-are-chatbots.png' />"
      ]
    },
    {
      "cell_type": "markdown",
      "metadata": {
        "id": "Ve1l5qvKn19t"
      },
      "source": [
        "# Membuat Chatbot - Bahasa Indonesia\n",
        "Chatbot merupakan aplikasi berbasis AI yang dapat memahami bahasa manusia melalui pesan teks maupun suara. Dalam hal ini kita spesifikasikan tujuan penggunaan chatbot sebagai pemandu wisata untuk Anda yang ingin menjelajah indahnya Nusantara."
      ]
    },
    {
      "cell_type": "markdown",
      "metadata": {
        "id": "uRfRLD0xoaBY"
      },
      "source": [
        "## Tahap 1 - Preprocessing\n",
        "* Pada proses ini kami akan mendefinisikan dataset yang digunakan beserta library untuk membangun suatu AI model pada aplikasi chatbot. \n",
        "* Sebelum memproses dataset, kita perlu melakukan preprocessing untuk menghilangkan noise dalam pesan yang masuk sehingga menjadi data siap pakai yang bersih dan digunakan sebagai referensi pembelajaran mesin."
      ]
    },
    {
      "cell_type": "code",
      "metadata": {
        "colab": {
          "base_uri": "https://localhost:8080/"
        },
        "id": "lv71BNyK9-dk",
        "outputId": "7768082a-53d6-40c4-bace-2deedac6d250"
      },
      "source": [
        "pip install Sastrawi"
      ],
      "execution_count": 1,
      "outputs": [
        {
          "output_type": "stream",
          "name": "stdout",
          "text": [
            "Requirement already satisfied: Sastrawi in /usr/local/lib/python3.7/dist-packages (1.0.1)\n"
          ]
        }
      ]
    },
    {
      "cell_type": "code",
      "metadata": {
        "id": "_R6znLXtUK45"
      },
      "source": [
        "import json\n",
        "import re\n",
        "import string\n",
        "\n",
        "from Sastrawi.Stemmer.StemmerFactory import StemmerFactory\n",
        "from Sastrawi.StopWordRemover.StopWordRemoverFactory import StopWordRemoverFactory\n",
        "\n",
        "from sklearn.preprocessing import LabelEncoder\n",
        "import tensorflow as tf\n",
        "from tensorflow.keras.preprocessing.text import Tokenizer\n",
        "from tensorflow.keras.preprocessing.sequence import pad_sequences\n",
        "from tensorflow.keras.layers import Input, Embedding, LSTM, Dense, GlobalAveragePooling1D, Flatten\n",
        "from tensorflow.keras.models import Model\n",
        "\n",
        "import matplotlib.pyplot as plt\n",
        "\n",
        "import random"
      ],
      "execution_count": 2,
      "outputs": []
    },
    {
      "cell_type": "code",
      "metadata": {
        "id": "7C9Vdc2xVhJy"
      },
      "source": [
        "with open('artour-3.json') as artour:\n",
        "  data = json.load(artour)"
      ],
      "execution_count": 3,
      "outputs": []
    },
    {
      "cell_type": "code",
      "metadata": {
        "id": "NTB9llnUVvMK"
      },
      "source": [
        "tags = []\n",
        "inputs = []\n",
        "outputs = {}\n",
        "for intent in data['intents']:\n",
        "  outputs[intent['tag']]=intent['output']\n",
        "  for lines in intent['input']:\n",
        "    inputs.append(lines)\n",
        "    tags.append(intent['tag'])"
      ],
      "execution_count": 4,
      "outputs": []
    },
    {
      "cell_type": "code",
      "metadata": {
        "id": "5QFsHFUgWtyb"
      },
      "source": [
        "# Case Folding\n",
        "def Case_Folding (users):\n",
        "    a = [a.lower() for a in users]\n",
        "    b = [b.strip() for b in a]\n",
        "    c = [re.sub(r\"\\d+\", \"\", c) for c in b]\n",
        "    d = [d.translate(str.maketrans(\"\",\"\",string.punctuation)) for d in c] \n",
        "    return d\n",
        "\n",
        "# Stemming\n",
        "factory_stem = StemmerFactory()\n",
        "stemmer = factory_stem.create_stemmer()\n",
        "\n",
        "def stemmer_ind(users):\n",
        "    pesan = [stemmer.stem(pesan) for pesan in users] \n",
        "    return pesan\n",
        "\n",
        "# Removing Stopwords\n",
        "factory_stop = StopWordRemoverFactory()\n",
        "stopword = factory_stop.create_stop_word_remover()\n",
        "\n",
        "def stopwords_ind(users):\n",
        "    pesan = [stopword.remove(pesan) for pesan in users] \n",
        "    return pesan"
      ],
      "execution_count": 5,
      "outputs": []
    },
    {
      "cell_type": "code",
      "metadata": {
        "id": "bjzFp0KAIjOz"
      },
      "source": [
        "user1 = Case_Folding(inputs)\n",
        "user2 = stemmer_ind(user1)\n",
        "user3 = stopwords_ind(user2)\n",
        "\n",
        "# Mengganti isi inputs dengan data preprocessing user\n",
        "inputs = user3"
      ],
      "execution_count": 6,
      "outputs": []
    },
    {
      "cell_type": "code",
      "metadata": {
        "colab": {
          "base_uri": "https://localhost:8080/"
        },
        "id": "dgxAlLL_nnqk",
        "outputId": "b3d156aa-bf53-4c3d-d47f-037746fad823"
      },
      "source": [
        "print(inputs)"
      ],
      "execution_count": 7,
      "outputs": [
        {
          "output_type": "stream",
          "name": "stdout",
          "text": [
            "['hi', 'halo', 'hello', 'hallo', 'hey', 'hai', 'hay', 'apa kabar', 'bagaimana kabar', 'gimana kabar', 'apa hari baik', 'bagaimana hari', 'apa hari senang', 'kabar baik', 'siapa nama', 'siapa kamu', 'nama kamu siapa', 'panggil kamu siapa', 'bagaimana bisa panggil', 'cara panggil', 'nama siapa', 'artour', 'artour', 'artour', 'artour', 'artour sini', 'ada artour', 'online', 'artour online', 'artour on', 'candi prambanan', 'apa candi prambanan', 'candi prambanan rupa', 'candi prambanan', 'candi prambanan ialah', 'erti candi prambanan', 'apa oleholeh prambanan', 'oleholeh', 'souvenir', 'souvenir prambanan', 'oleholeh prambanan', 'bagaimana cara prambanan kereta', 'stasiun yogyakarta prambanan', 'bagaimana cara prambanan stasiun', 'stasiun', 'prambanan stasiun', 'kereta', 'naik kereta', 'bagaimana cara prambanan bus', 'cara prambanan pakai bus', 'bagaimana cara prambanan naik bus', 'bus', 'naik bus', 'bus kota', 'trans jogja', 'bagaimana cara prambanan bandara', 'cara prambanan bandara yogyakarta', 'gimana cara prambanan bandara yogyakarta', 'pesawat', 'bandara', 'bandara jogja', 'bandara yogyakarta', 'bagaimana cara prambanan mobil pribadi', 'cara prambanan mobil sendiri', 'gimana cara prambanan kendara pribadi', 'mobil pribadi', 'mobil sendiri', 'mobil', 'mobil', 'cara prambanan naik mobil', 'makan enak prambanan', 'kuliner sekitar prambanan', 'tempat makan dekat prambanan', 'tempat makan dekat prambanan', 'ada tempat makan dekat prambanan', 'rekomendasi tempat makan dekat prambanan', 'rekomendasi kuliner prambanan', 'makan dekat prambanan', 'kuliner prambanan', 'berapa tarif umum masuk candi prambanan', 'tiket masuk candi prambanan', 'biaya masuk candi prambanan', 'informasi tiket candi prambanan', 'informasi tiket masuk umum', 'tiket umum', 'berapa masuk umum', 'berapa biaya masuk candi prambanan ajar', 'rombong ajar', 'biaya masuk ajar', 'tiket masuk candi prambanan ajar', 'tiket masuk ajar', 'informasi tiket ajar', 'informasi tiket masuk ajar', 'tarif khusus rombong ajar', 'diskon tiket', 'tarif paket rombong', 'mahasiswa', 'ajar', 'mana lokasi candi prambanan', 'lokasi candi prambanan mana', 'lokasi candi prambanan', 'tempat candi prambanan', 'daerah candi prambanan', 'mana lokasi konser sendratari', 'tempat konser tunjuk ramayana', 'konser sendratari ramayana', 'konser ramayana', 'konser sendratari', 'waktu buka candi prambanan', 'jam buka candi prambanan', 'candi prambanan buka', 'jam tutup candi prambanan', 'jadwal tunjuk sendratari ramayana', 'protokol sehat unjung', 'area covid ini', 'prosedur unjung pandemi', 'protocol covid', 'covid', 'prosedur pandemi prambanan', 'prosedur pandemi', 'protokol sehat prambanan', 'protokol pandemi', 'sejarah diri candi prambanan', 'sejarah', 'kisah ramayana', 'dewi shinta ramayana', 'rama shinta', 'sejarah candi prambanan', 'roro jonggrang', 'bandung bondowoso', 'candi hindu indonesia', 'rahwana dewi shinta', 'diri sejak kapan', 'diri apa bangun', 'apa candi prambanan', 'nama candi prambanan', 'kompleks candi prambanan', 'nama candi', 'kompleks nama candi', 'zona candi', 'byebye', 'keluar', 'exit', 'quit', 'bye', 'dadah', 'goodbye', 'jumpa', 'selamat tinggal']\n"
          ]
        }
      ]
    },
    {
      "cell_type": "markdown",
      "metadata": {
        "id": "2sd95VaSofgb"
      },
      "source": [
        "## Tahap 2 - Model Training\n",
        "> Menggunakan framework Tensorflow yang digunakan sebagai arsitektur model Machine Learning serta disesuaikan dengan domain untuk membuat chatbot yaitu Natural Language Processing"
      ]
    },
    {
      "cell_type": "code",
      "metadata": {
        "id": "1J9JdiCfSew8"
      },
      "source": [
        "tokenizer = Tokenizer(num_words=2000)\n",
        "tokenizer.fit_on_texts(inputs)\n",
        "train = tokenizer.texts_to_sequences(inputs)"
      ],
      "execution_count": 8,
      "outputs": []
    },
    {
      "cell_type": "code",
      "metadata": {
        "id": "3ZOXwVdKTY2_"
      },
      "source": [
        "le = LabelEncoder()\n",
        "x_train = pad_sequences(train)\n",
        "y_train = le.fit_transform(tags)"
      ],
      "execution_count": 9,
      "outputs": []
    },
    {
      "cell_type": "code",
      "metadata": {
        "colab": {
          "base_uri": "https://localhost:8080/"
        },
        "id": "II_Hxo-oT4ye",
        "outputId": "b1fde949-43be-482a-bd2b-465cb4cd91fd"
      },
      "source": [
        "vocabulary = len(tokenizer.word_index)\n",
        "print(\"number of unique words : \", vocabulary)\n",
        "output_length = le.classes_.shape[0]\n",
        "print(\"output length: \", output_length)"
      ],
      "execution_count": 10,
      "outputs": [
        {
          "output_type": "stream",
          "name": "stdout",
          "text": [
            "number of unique words :  116\n",
            "output length:  20\n"
          ]
        }
      ]
    },
    {
      "cell_type": "code",
      "metadata": {
        "colab": {
          "base_uri": "https://localhost:8080/"
        },
        "id": "KSonbbnfcoxh",
        "outputId": "833fbd4a-8927-434f-d338-533cdca84f29"
      },
      "source": [
        "# Variabel ini untuk apa btw?\n",
        "input_shape = x_train.shape[1]\n",
        "print(input_shape)"
      ],
      "execution_count": 11,
      "outputs": [
        {
          "output_type": "stream",
          "name": "stdout",
          "text": [
            "6\n"
          ]
        }
      ]
    },
    {
      "cell_type": "code",
      "metadata": {
        "id": "GVeGA3H5n_Ft"
      },
      "source": [
        "i = Input(shape=(input_shape,))\n",
        "x = Embedding(vocabulary+1,10)(i)\n",
        "x = LSTM(10, return_sequences=True)(x)\n",
        "x = Flatten()(x)\n",
        "x = Dense(output_length, activation=\"softmax\")(x)\n",
        "model = Model(i,x)"
      ],
      "execution_count": 12,
      "outputs": []
    },
    {
      "cell_type": "code",
      "metadata": {
        "colab": {
          "base_uri": "https://localhost:8080/"
        },
        "id": "KWaNfJzwoClt",
        "outputId": "51e2d84a-788e-46f8-afa0-066bb5418ced"
      },
      "source": [
        "model.summary()"
      ],
      "execution_count": 13,
      "outputs": [
        {
          "output_type": "stream",
          "name": "stdout",
          "text": [
            "Model: \"model\"\n",
            "_________________________________________________________________\n",
            " Layer (type)                Output Shape              Param #   \n",
            "=================================================================\n",
            " input_1 (InputLayer)        [(None, 6)]               0         \n",
            "                                                                 \n",
            " embedding (Embedding)       (None, 6, 10)             1170      \n",
            "                                                                 \n",
            " lstm (LSTM)                 (None, 6, 10)             840       \n",
            "                                                                 \n",
            " flatten (Flatten)           (None, 60)                0         \n",
            "                                                                 \n",
            " dense (Dense)               (None, 20)                1220      \n",
            "                                                                 \n",
            "=================================================================\n",
            "Total params: 3,230\n",
            "Trainable params: 3,230\n",
            "Non-trainable params: 0\n",
            "_________________________________________________________________\n"
          ]
        }
      ]
    },
    {
      "cell_type": "code",
      "metadata": {
        "colab": {
          "base_uri": "https://localhost:8080/"
        },
        "id": "psAgDlpBT-Br",
        "outputId": "0e1d4c93-a47d-4c15-9371-210d5e32e7f2"
      },
      "source": [
        "model.compile(loss='sparse_categorical_crossentropy', optimizer='adam', metrics=['accuracy'])\n",
        "train = model.fit(x_train, y_train, epochs=300)"
      ],
      "execution_count": 14,
      "outputs": [
        {
          "output_type": "stream",
          "name": "stdout",
          "text": [
            "Epoch 1/300\n",
            "5/5 [==============================] - 3s 8ms/step - loss: 2.9971 - accuracy: 0.0268\n",
            "Epoch 2/300\n",
            "5/5 [==============================] - 0s 7ms/step - loss: 2.9939 - accuracy: 0.0336\n",
            "Epoch 3/300\n",
            "5/5 [==============================] - 0s 7ms/step - loss: 2.9912 - accuracy: 0.1477\n",
            "Epoch 4/300\n",
            "5/5 [==============================] - 0s 8ms/step - loss: 2.9888 - accuracy: 0.1342\n",
            "Epoch 5/300\n",
            "5/5 [==============================] - 0s 6ms/step - loss: 2.9859 - accuracy: 0.1477\n",
            "Epoch 6/300\n",
            "5/5 [==============================] - 0s 7ms/step - loss: 2.9830 - accuracy: 0.1544\n",
            "Epoch 7/300\n",
            "5/5 [==============================] - 0s 7ms/step - loss: 2.9801 - accuracy: 0.1477\n",
            "Epoch 8/300\n",
            "5/5 [==============================] - 0s 7ms/step - loss: 2.9763 - accuracy: 0.1477\n",
            "Epoch 9/300\n",
            "5/5 [==============================] - 0s 8ms/step - loss: 2.9723 - accuracy: 0.1409\n",
            "Epoch 10/300\n",
            "5/5 [==============================] - 0s 7ms/step - loss: 2.9678 - accuracy: 0.1342\n",
            "Epoch 11/300\n",
            "5/5 [==============================] - 0s 7ms/step - loss: 2.9624 - accuracy: 0.1477\n",
            "Epoch 12/300\n",
            "5/5 [==============================] - 0s 8ms/step - loss: 2.9564 - accuracy: 0.1477\n",
            "Epoch 13/300\n",
            "5/5 [==============================] - 0s 7ms/step - loss: 2.9494 - accuracy: 0.1477\n",
            "Epoch 14/300\n",
            "5/5 [==============================] - 0s 7ms/step - loss: 2.9408 - accuracy: 0.1477\n",
            "Epoch 15/300\n",
            "5/5 [==============================] - 0s 7ms/step - loss: 2.9318 - accuracy: 0.1409\n",
            "Epoch 16/300\n",
            "5/5 [==============================] - 0s 7ms/step - loss: 2.9217 - accuracy: 0.1409\n",
            "Epoch 17/300\n",
            "5/5 [==============================] - 0s 7ms/step - loss: 2.9092 - accuracy: 0.1409\n",
            "Epoch 18/300\n",
            "5/5 [==============================] - 0s 6ms/step - loss: 2.8953 - accuracy: 0.1409\n",
            "Epoch 19/300\n",
            "5/5 [==============================] - 0s 7ms/step - loss: 2.8797 - accuracy: 0.1544\n",
            "Epoch 20/300\n",
            "5/5 [==============================] - 0s 6ms/step - loss: 2.8638 - accuracy: 0.1611\n",
            "Epoch 21/300\n",
            "5/5 [==============================] - 0s 7ms/step - loss: 2.8428 - accuracy: 0.1678\n",
            "Epoch 22/300\n",
            "5/5 [==============================] - 0s 6ms/step - loss: 2.8234 - accuracy: 0.1678\n",
            "Epoch 23/300\n",
            "5/5 [==============================] - 0s 7ms/step - loss: 2.8005 - accuracy: 0.1812\n",
            "Epoch 24/300\n",
            "5/5 [==============================] - 0s 7ms/step - loss: 2.7739 - accuracy: 0.2081\n",
            "Epoch 25/300\n",
            "5/5 [==============================] - 0s 7ms/step - loss: 2.7466 - accuracy: 0.2148\n",
            "Epoch 26/300\n",
            "5/5 [==============================] - 0s 7ms/step - loss: 2.7149 - accuracy: 0.2349\n",
            "Epoch 27/300\n",
            "5/5 [==============================] - 0s 7ms/step - loss: 2.6814 - accuracy: 0.2819\n",
            "Epoch 28/300\n",
            "5/5 [==============================] - 0s 7ms/step - loss: 2.6443 - accuracy: 0.3691\n",
            "Epoch 29/300\n",
            "5/5 [==============================] - 0s 7ms/step - loss: 2.6052 - accuracy: 0.3691\n",
            "Epoch 30/300\n",
            "5/5 [==============================] - 0s 7ms/step - loss: 2.5635 - accuracy: 0.3826\n",
            "Epoch 31/300\n",
            "5/5 [==============================] - 0s 10ms/step - loss: 2.5216 - accuracy: 0.3758\n",
            "Epoch 32/300\n",
            "5/5 [==============================] - 0s 7ms/step - loss: 2.4777 - accuracy: 0.3356\n",
            "Epoch 33/300\n",
            "5/5 [==============================] - 0s 7ms/step - loss: 2.4340 - accuracy: 0.3289\n",
            "Epoch 34/300\n",
            "5/5 [==============================] - 0s 7ms/step - loss: 2.3878 - accuracy: 0.3423\n",
            "Epoch 35/300\n",
            "5/5 [==============================] - 0s 8ms/step - loss: 2.3409 - accuracy: 0.3289\n",
            "Epoch 36/300\n",
            "5/5 [==============================] - 0s 8ms/step - loss: 2.2970 - accuracy: 0.3691\n",
            "Epoch 37/300\n",
            "5/5 [==============================] - 0s 7ms/step - loss: 2.2484 - accuracy: 0.4161\n",
            "Epoch 38/300\n",
            "5/5 [==============================] - 0s 7ms/step - loss: 2.2019 - accuracy: 0.4631\n",
            "Epoch 39/300\n",
            "5/5 [==============================] - 0s 7ms/step - loss: 2.1518 - accuracy: 0.4564\n",
            "Epoch 40/300\n",
            "5/5 [==============================] - 0s 8ms/step - loss: 2.1053 - accuracy: 0.4631\n",
            "Epoch 41/300\n",
            "5/5 [==============================] - 0s 7ms/step - loss: 2.0574 - accuracy: 0.4631\n",
            "Epoch 42/300\n",
            "5/5 [==============================] - 0s 6ms/step - loss: 2.0130 - accuracy: 0.4832\n",
            "Epoch 43/300\n",
            "5/5 [==============================] - 0s 7ms/step - loss: 1.9673 - accuracy: 0.4966\n",
            "Epoch 44/300\n",
            "5/5 [==============================] - 0s 7ms/step - loss: 1.9231 - accuracy: 0.5168\n",
            "Epoch 45/300\n",
            "5/5 [==============================] - 0s 7ms/step - loss: 1.8832 - accuracy: 0.5570\n",
            "Epoch 46/300\n",
            "5/5 [==============================] - 0s 7ms/step - loss: 1.8346 - accuracy: 0.5772\n",
            "Epoch 47/300\n",
            "5/5 [==============================] - 0s 7ms/step - loss: 1.8024 - accuracy: 0.5503\n",
            "Epoch 48/300\n",
            "5/5 [==============================] - 0s 7ms/step - loss: 1.7577 - accuracy: 0.6174\n",
            "Epoch 49/300\n",
            "5/5 [==============================] - 0s 8ms/step - loss: 1.7290 - accuracy: 0.6376\n",
            "Epoch 50/300\n",
            "5/5 [==============================] - 0s 7ms/step - loss: 1.6847 - accuracy: 0.6376\n",
            "Epoch 51/300\n",
            "5/5 [==============================] - 0s 7ms/step - loss: 1.6512 - accuracy: 0.6510\n",
            "Epoch 52/300\n",
            "5/5 [==============================] - 0s 7ms/step - loss: 1.6187 - accuracy: 0.6577\n",
            "Epoch 53/300\n",
            "5/5 [==============================] - 0s 7ms/step - loss: 1.5902 - accuracy: 0.6644\n",
            "Epoch 54/300\n",
            "5/5 [==============================] - 0s 7ms/step - loss: 1.5551 - accuracy: 0.6577\n",
            "Epoch 55/300\n",
            "5/5 [==============================] - 0s 7ms/step - loss: 1.5235 - accuracy: 0.6711\n",
            "Epoch 56/300\n",
            "5/5 [==============================] - 0s 7ms/step - loss: 1.5051 - accuracy: 0.6711\n",
            "Epoch 57/300\n",
            "5/5 [==============================] - 0s 7ms/step - loss: 1.4670 - accuracy: 0.6644\n",
            "Epoch 58/300\n",
            "5/5 [==============================] - 0s 7ms/step - loss: 1.4415 - accuracy: 0.6644\n",
            "Epoch 59/300\n",
            "5/5 [==============================] - 0s 10ms/step - loss: 1.4097 - accuracy: 0.6711\n",
            "Epoch 60/300\n",
            "5/5 [==============================] - 0s 7ms/step - loss: 1.3889 - accuracy: 0.6913\n",
            "Epoch 61/300\n",
            "5/5 [==============================] - 0s 7ms/step - loss: 1.3609 - accuracy: 0.6913\n",
            "Epoch 62/300\n",
            "5/5 [==============================] - 0s 7ms/step - loss: 1.3392 - accuracy: 0.7114\n",
            "Epoch 63/300\n",
            "5/5 [==============================] - 0s 7ms/step - loss: 1.3098 - accuracy: 0.7047\n",
            "Epoch 64/300\n",
            "5/5 [==============================] - 0s 7ms/step - loss: 1.2904 - accuracy: 0.7114\n",
            "Epoch 65/300\n",
            "5/5 [==============================] - 0s 7ms/step - loss: 1.2675 - accuracy: 0.7383\n",
            "Epoch 66/300\n",
            "5/5 [==============================] - 0s 7ms/step - loss: 1.2430 - accuracy: 0.7315\n",
            "Epoch 67/300\n",
            "5/5 [==============================] - 0s 7ms/step - loss: 1.2249 - accuracy: 0.7450\n",
            "Epoch 68/300\n",
            "5/5 [==============================] - 0s 8ms/step - loss: 1.1999 - accuracy: 0.7584\n",
            "Epoch 69/300\n",
            "5/5 [==============================] - 0s 7ms/step - loss: 1.1799 - accuracy: 0.7718\n",
            "Epoch 70/300\n",
            "5/5 [==============================] - 0s 7ms/step - loss: 1.1582 - accuracy: 0.7987\n",
            "Epoch 71/300\n",
            "5/5 [==============================] - 0s 8ms/step - loss: 1.1392 - accuracy: 0.7919\n",
            "Epoch 72/300\n",
            "5/5 [==============================] - 0s 7ms/step - loss: 1.1164 - accuracy: 0.7785\n",
            "Epoch 73/300\n",
            "5/5 [==============================] - 0s 8ms/step - loss: 1.0996 - accuracy: 0.7987\n",
            "Epoch 74/300\n",
            "5/5 [==============================] - 0s 8ms/step - loss: 1.0796 - accuracy: 0.8188\n",
            "Epoch 75/300\n",
            "5/5 [==============================] - 0s 7ms/step - loss: 1.0594 - accuracy: 0.8188\n",
            "Epoch 76/300\n",
            "5/5 [==============================] - 0s 7ms/step - loss: 1.0427 - accuracy: 0.8255\n",
            "Epoch 77/300\n",
            "5/5 [==============================] - 0s 7ms/step - loss: 1.0238 - accuracy: 0.8255\n",
            "Epoch 78/300\n",
            "5/5 [==============================] - 0s 8ms/step - loss: 1.0074 - accuracy: 0.8255\n",
            "Epoch 79/300\n",
            "5/5 [==============================] - 0s 7ms/step - loss: 0.9876 - accuracy: 0.8389\n",
            "Epoch 80/300\n",
            "5/5 [==============================] - 0s 7ms/step - loss: 0.9721 - accuracy: 0.8322\n",
            "Epoch 81/300\n",
            "5/5 [==============================] - 0s 6ms/step - loss: 0.9555 - accuracy: 0.8389\n",
            "Epoch 82/300\n",
            "5/5 [==============================] - 0s 7ms/step - loss: 0.9376 - accuracy: 0.8456\n",
            "Epoch 83/300\n",
            "5/5 [==============================] - 0s 7ms/step - loss: 0.9231 - accuracy: 0.8456\n",
            "Epoch 84/300\n",
            "5/5 [==============================] - 0s 7ms/step - loss: 0.9065 - accuracy: 0.8591\n",
            "Epoch 85/300\n",
            "5/5 [==============================] - 0s 7ms/step - loss: 0.8912 - accuracy: 0.8591\n",
            "Epoch 86/300\n",
            "5/5 [==============================] - 0s 7ms/step - loss: 0.8759 - accuracy: 0.8725\n",
            "Epoch 87/300\n",
            "5/5 [==============================] - 0s 10ms/step - loss: 0.8608 - accuracy: 0.8792\n",
            "Epoch 88/300\n",
            "5/5 [==============================] - 0s 8ms/step - loss: 0.8467 - accuracy: 0.8926\n",
            "Epoch 89/300\n",
            "5/5 [==============================] - 0s 7ms/step - loss: 0.8321 - accuracy: 0.8859\n",
            "Epoch 90/300\n",
            "5/5 [==============================] - 0s 7ms/step - loss: 0.8172 - accuracy: 0.8859\n",
            "Epoch 91/300\n",
            "5/5 [==============================] - 0s 7ms/step - loss: 0.8030 - accuracy: 0.8859\n",
            "Epoch 92/300\n",
            "5/5 [==============================] - 0s 7ms/step - loss: 0.7902 - accuracy: 0.8859\n",
            "Epoch 93/300\n",
            "5/5 [==============================] - 0s 7ms/step - loss: 0.7756 - accuracy: 0.8859\n",
            "Epoch 94/300\n",
            "5/5 [==============================] - 0s 7ms/step - loss: 0.7655 - accuracy: 0.8859\n",
            "Epoch 95/300\n",
            "5/5 [==============================] - 0s 7ms/step - loss: 0.7533 - accuracy: 0.8859\n",
            "Epoch 96/300\n",
            "5/5 [==============================] - 0s 7ms/step - loss: 0.7394 - accuracy: 0.8993\n",
            "Epoch 97/300\n",
            "5/5 [==============================] - 0s 7ms/step - loss: 0.7287 - accuracy: 0.8926\n",
            "Epoch 98/300\n",
            "5/5 [==============================] - 0s 7ms/step - loss: 0.7123 - accuracy: 0.9060\n",
            "Epoch 99/300\n",
            "5/5 [==============================] - 0s 7ms/step - loss: 0.7033 - accuracy: 0.8993\n",
            "Epoch 100/300\n",
            "5/5 [==============================] - 0s 8ms/step - loss: 0.6902 - accuracy: 0.8993\n",
            "Epoch 101/300\n",
            "5/5 [==============================] - 0s 7ms/step - loss: 0.6783 - accuracy: 0.8993\n",
            "Epoch 102/300\n",
            "5/5 [==============================] - 0s 7ms/step - loss: 0.6705 - accuracy: 0.8926\n",
            "Epoch 103/300\n",
            "5/5 [==============================] - 0s 7ms/step - loss: 0.6548 - accuracy: 0.8926\n",
            "Epoch 104/300\n",
            "5/5 [==============================] - 0s 7ms/step - loss: 0.6450 - accuracy: 0.8993\n",
            "Epoch 105/300\n",
            "5/5 [==============================] - 0s 9ms/step - loss: 0.6352 - accuracy: 0.9262\n",
            "Epoch 106/300\n",
            "5/5 [==============================] - 0s 6ms/step - loss: 0.6251 - accuracy: 0.9329\n",
            "Epoch 107/300\n",
            "5/5 [==============================] - 0s 8ms/step - loss: 0.6148 - accuracy: 0.9329\n",
            "Epoch 108/300\n",
            "5/5 [==============================] - 0s 7ms/step - loss: 0.6051 - accuracy: 0.9262\n",
            "Epoch 109/300\n",
            "5/5 [==============================] - 0s 8ms/step - loss: 0.5958 - accuracy: 0.9195\n",
            "Epoch 110/300\n",
            "5/5 [==============================] - 0s 7ms/step - loss: 0.5866 - accuracy: 0.9262\n",
            "Epoch 111/300\n",
            "5/5 [==============================] - 0s 7ms/step - loss: 0.5771 - accuracy: 0.9329\n",
            "Epoch 112/300\n",
            "5/5 [==============================] - 0s 7ms/step - loss: 0.5689 - accuracy: 0.9329\n",
            "Epoch 113/300\n",
            "5/5 [==============================] - 0s 8ms/step - loss: 0.5593 - accuracy: 0.9329\n",
            "Epoch 114/300\n",
            "5/5 [==============================] - 0s 7ms/step - loss: 0.5504 - accuracy: 0.9463\n",
            "Epoch 115/300\n",
            "5/5 [==============================] - 0s 7ms/step - loss: 0.5427 - accuracy: 0.9530\n",
            "Epoch 116/300\n",
            "5/5 [==============================] - 0s 9ms/step - loss: 0.5340 - accuracy: 0.9597\n",
            "Epoch 117/300\n",
            "5/5 [==============================] - 0s 7ms/step - loss: 0.5267 - accuracy: 0.9597\n",
            "Epoch 118/300\n",
            "5/5 [==============================] - 0s 7ms/step - loss: 0.5185 - accuracy: 0.9664\n",
            "Epoch 119/300\n",
            "5/5 [==============================] - 0s 7ms/step - loss: 0.5099 - accuracy: 0.9732\n",
            "Epoch 120/300\n",
            "5/5 [==============================] - 0s 7ms/step - loss: 0.5033 - accuracy: 0.9732\n",
            "Epoch 121/300\n",
            "5/5 [==============================] - 0s 7ms/step - loss: 0.4959 - accuracy: 0.9732\n",
            "Epoch 122/300\n",
            "5/5 [==============================] - 0s 7ms/step - loss: 0.4887 - accuracy: 0.9799\n",
            "Epoch 123/300\n",
            "5/5 [==============================] - 0s 7ms/step - loss: 0.4817 - accuracy: 0.9799\n",
            "Epoch 124/300\n",
            "5/5 [==============================] - 0s 7ms/step - loss: 0.4749 - accuracy: 0.9799\n",
            "Epoch 125/300\n",
            "5/5 [==============================] - 0s 7ms/step - loss: 0.4678 - accuracy: 0.9799\n",
            "Epoch 126/300\n",
            "5/5 [==============================] - 0s 10ms/step - loss: 0.4619 - accuracy: 0.9799\n",
            "Epoch 127/300\n",
            "5/5 [==============================] - 0s 10ms/step - loss: 0.4547 - accuracy: 0.9799\n",
            "Epoch 128/300\n",
            "5/5 [==============================] - 0s 7ms/step - loss: 0.4488 - accuracy: 0.9799\n",
            "Epoch 129/300\n",
            "5/5 [==============================] - 0s 7ms/step - loss: 0.4426 - accuracy: 0.9799\n",
            "Epoch 130/300\n",
            "5/5 [==============================] - 0s 7ms/step - loss: 0.4363 - accuracy: 0.9799\n",
            "Epoch 131/300\n",
            "5/5 [==============================] - 0s 7ms/step - loss: 0.4300 - accuracy: 0.9799\n",
            "Epoch 132/300\n",
            "5/5 [==============================] - 0s 7ms/step - loss: 0.4240 - accuracy: 0.9799\n",
            "Epoch 133/300\n",
            "5/5 [==============================] - 0s 7ms/step - loss: 0.4185 - accuracy: 0.9799\n",
            "Epoch 134/300\n",
            "5/5 [==============================] - 0s 8ms/step - loss: 0.4128 - accuracy: 0.9799\n",
            "Epoch 135/300\n",
            "5/5 [==============================] - 0s 7ms/step - loss: 0.4070 - accuracy: 0.9799\n",
            "Epoch 136/300\n",
            "5/5 [==============================] - 0s 7ms/step - loss: 0.4020 - accuracy: 0.9799\n",
            "Epoch 137/300\n",
            "5/5 [==============================] - 0s 7ms/step - loss: 0.3963 - accuracy: 0.9799\n",
            "Epoch 138/300\n",
            "5/5 [==============================] - 0s 7ms/step - loss: 0.3912 - accuracy: 0.9799\n",
            "Epoch 139/300\n",
            "5/5 [==============================] - 0s 7ms/step - loss: 0.3859 - accuracy: 0.9799\n",
            "Epoch 140/300\n",
            "5/5 [==============================] - 0s 7ms/step - loss: 0.3806 - accuracy: 0.9799\n",
            "Epoch 141/300\n",
            "5/5 [==============================] - 0s 7ms/step - loss: 0.3758 - accuracy: 0.9799\n",
            "Epoch 142/300\n",
            "5/5 [==============================] - 0s 7ms/step - loss: 0.3711 - accuracy: 0.9799\n",
            "Epoch 143/300\n",
            "5/5 [==============================] - 0s 8ms/step - loss: 0.3661 - accuracy: 0.9799\n",
            "Epoch 144/300\n",
            "5/5 [==============================] - 0s 7ms/step - loss: 0.3610 - accuracy: 0.9799\n",
            "Epoch 145/300\n",
            "5/5 [==============================] - 0s 7ms/step - loss: 0.3562 - accuracy: 0.9799\n",
            "Epoch 146/300\n",
            "5/5 [==============================] - 0s 7ms/step - loss: 0.3512 - accuracy: 0.9799\n",
            "Epoch 147/300\n",
            "5/5 [==============================] - 0s 7ms/step - loss: 0.3472 - accuracy: 0.9799\n",
            "Epoch 148/300\n",
            "5/5 [==============================] - 0s 7ms/step - loss: 0.3431 - accuracy: 0.9799\n",
            "Epoch 149/300\n",
            "5/5 [==============================] - 0s 8ms/step - loss: 0.3378 - accuracy: 0.9799\n",
            "Epoch 150/300\n",
            "5/5 [==============================] - 0s 8ms/step - loss: 0.3333 - accuracy: 0.9799\n",
            "Epoch 151/300\n",
            "5/5 [==============================] - 0s 7ms/step - loss: 0.3296 - accuracy: 0.9799\n",
            "Epoch 152/300\n",
            "5/5 [==============================] - 0s 9ms/step - loss: 0.3246 - accuracy: 0.9799\n",
            "Epoch 153/300\n",
            "5/5 [==============================] - 0s 7ms/step - loss: 0.3210 - accuracy: 0.9799\n",
            "Epoch 154/300\n",
            "5/5 [==============================] - 0s 7ms/step - loss: 0.3169 - accuracy: 0.9799\n",
            "Epoch 155/300\n",
            "5/5 [==============================] - 0s 8ms/step - loss: 0.3131 - accuracy: 0.9866\n",
            "Epoch 156/300\n",
            "5/5 [==============================] - 0s 8ms/step - loss: 0.3096 - accuracy: 0.9866\n",
            "Epoch 157/300\n",
            "5/5 [==============================] - 0s 7ms/step - loss: 0.3052 - accuracy: 0.9866\n",
            "Epoch 158/300\n",
            "5/5 [==============================] - 0s 7ms/step - loss: 0.3012 - accuracy: 0.9866\n",
            "Epoch 159/300\n",
            "5/5 [==============================] - 0s 7ms/step - loss: 0.2973 - accuracy: 0.9866\n",
            "Epoch 160/300\n",
            "5/5 [==============================] - 0s 7ms/step - loss: 0.2937 - accuracy: 0.9866\n",
            "Epoch 161/300\n",
            "5/5 [==============================] - 0s 8ms/step - loss: 0.2899 - accuracy: 0.9866\n",
            "Epoch 162/300\n",
            "5/5 [==============================] - 0s 7ms/step - loss: 0.2871 - accuracy: 0.9866\n",
            "Epoch 163/300\n",
            "5/5 [==============================] - 0s 8ms/step - loss: 0.2830 - accuracy: 0.9866\n",
            "Epoch 164/300\n",
            "5/5 [==============================] - 0s 7ms/step - loss: 0.2801 - accuracy: 0.9866\n",
            "Epoch 165/300\n",
            "5/5 [==============================] - 0s 7ms/step - loss: 0.2761 - accuracy: 0.9866\n",
            "Epoch 166/300\n",
            "5/5 [==============================] - 0s 8ms/step - loss: 0.2730 - accuracy: 0.9866\n",
            "Epoch 167/300\n",
            "5/5 [==============================] - 0s 9ms/step - loss: 0.2690 - accuracy: 0.9866\n",
            "Epoch 168/300\n",
            "5/5 [==============================] - 0s 7ms/step - loss: 0.2660 - accuracy: 0.9866\n",
            "Epoch 169/300\n",
            "5/5 [==============================] - 0s 7ms/step - loss: 0.2626 - accuracy: 0.9866\n",
            "Epoch 170/300\n",
            "5/5 [==============================] - 0s 7ms/step - loss: 0.2593 - accuracy: 0.9866\n",
            "Epoch 171/300\n",
            "5/5 [==============================] - 0s 8ms/step - loss: 0.2566 - accuracy: 0.9866\n",
            "Epoch 172/300\n",
            "5/5 [==============================] - 0s 8ms/step - loss: 0.2532 - accuracy: 0.9866\n",
            "Epoch 173/300\n",
            "5/5 [==============================] - 0s 7ms/step - loss: 0.2505 - accuracy: 0.9866\n",
            "Epoch 174/300\n",
            "5/5 [==============================] - 0s 7ms/step - loss: 0.2476 - accuracy: 0.9866\n",
            "Epoch 175/300\n",
            "5/5 [==============================] - 0s 7ms/step - loss: 0.2445 - accuracy: 0.9866\n",
            "Epoch 176/300\n",
            "5/5 [==============================] - 0s 7ms/step - loss: 0.2421 - accuracy: 0.9866\n",
            "Epoch 177/300\n",
            "5/5 [==============================] - 0s 7ms/step - loss: 0.2388 - accuracy: 0.9866\n",
            "Epoch 178/300\n",
            "5/5 [==============================] - 0s 9ms/step - loss: 0.2357 - accuracy: 0.9866\n",
            "Epoch 179/300\n",
            "5/5 [==============================] - 0s 7ms/step - loss: 0.2332 - accuracy: 0.9866\n",
            "Epoch 180/300\n",
            "5/5 [==============================] - 0s 8ms/step - loss: 0.2305 - accuracy: 0.9866\n",
            "Epoch 181/300\n",
            "5/5 [==============================] - 0s 8ms/step - loss: 0.2275 - accuracy: 0.9866\n",
            "Epoch 182/300\n",
            "5/5 [==============================] - 0s 7ms/step - loss: 0.2250 - accuracy: 0.9866\n",
            "Epoch 183/300\n",
            "5/5 [==============================] - 0s 9ms/step - loss: 0.2223 - accuracy: 0.9866\n",
            "Epoch 184/300\n",
            "5/5 [==============================] - 0s 7ms/step - loss: 0.2198 - accuracy: 0.9866\n",
            "Epoch 185/300\n",
            "5/5 [==============================] - 0s 9ms/step - loss: 0.2174 - accuracy: 0.9866\n",
            "Epoch 186/300\n",
            "5/5 [==============================] - 0s 7ms/step - loss: 0.2149 - accuracy: 0.9866\n",
            "Epoch 187/300\n",
            "5/5 [==============================] - 0s 8ms/step - loss: 0.2123 - accuracy: 0.9866\n",
            "Epoch 188/300\n",
            "5/5 [==============================] - 0s 9ms/step - loss: 0.2098 - accuracy: 0.9866\n",
            "Epoch 189/300\n",
            "5/5 [==============================] - 0s 9ms/step - loss: 0.2075 - accuracy: 0.9866\n",
            "Epoch 190/300\n",
            "5/5 [==============================] - 0s 9ms/step - loss: 0.2053 - accuracy: 0.9866\n",
            "Epoch 191/300\n",
            "5/5 [==============================] - 0s 9ms/step - loss: 0.2029 - accuracy: 0.9866\n",
            "Epoch 192/300\n",
            "5/5 [==============================] - 0s 7ms/step - loss: 0.2006 - accuracy: 0.9866\n",
            "Epoch 193/300\n",
            "5/5 [==============================] - 0s 7ms/step - loss: 0.1983 - accuracy: 0.9866\n",
            "Epoch 194/300\n",
            "5/5 [==============================] - 0s 7ms/step - loss: 0.1965 - accuracy: 0.9866\n",
            "Epoch 195/300\n",
            "5/5 [==============================] - 0s 7ms/step - loss: 0.1939 - accuracy: 0.9866\n",
            "Epoch 196/300\n",
            "5/5 [==============================] - 0s 8ms/step - loss: 0.1919 - accuracy: 0.9866\n",
            "Epoch 197/300\n",
            "5/5 [==============================] - 0s 7ms/step - loss: 0.1899 - accuracy: 0.9866\n",
            "Epoch 198/300\n",
            "5/5 [==============================] - 0s 8ms/step - loss: 0.1878 - accuracy: 0.9866\n",
            "Epoch 199/300\n",
            "5/5 [==============================] - 0s 9ms/step - loss: 0.1862 - accuracy: 0.9866\n",
            "Epoch 200/300\n",
            "5/5 [==============================] - 0s 8ms/step - loss: 0.1844 - accuracy: 0.9866\n",
            "Epoch 201/300\n",
            "5/5 [==============================] - 0s 8ms/step - loss: 0.1820 - accuracy: 0.9866\n",
            "Epoch 202/300\n",
            "5/5 [==============================] - 0s 7ms/step - loss: 0.1799 - accuracy: 0.9866\n",
            "Epoch 203/300\n",
            "5/5 [==============================] - 0s 8ms/step - loss: 0.1782 - accuracy: 0.9866\n",
            "Epoch 204/300\n",
            "5/5 [==============================] - 0s 9ms/step - loss: 0.1763 - accuracy: 0.9866\n",
            "Epoch 205/300\n",
            "5/5 [==============================] - 0s 8ms/step - loss: 0.1744 - accuracy: 0.9866\n",
            "Epoch 206/300\n",
            "5/5 [==============================] - 0s 7ms/step - loss: 0.1724 - accuracy: 0.9866\n",
            "Epoch 207/300\n",
            "5/5 [==============================] - 0s 8ms/step - loss: 0.1706 - accuracy: 0.9866\n",
            "Epoch 208/300\n",
            "5/5 [==============================] - 0s 7ms/step - loss: 0.1693 - accuracy: 0.9866\n",
            "Epoch 209/300\n",
            "5/5 [==============================] - 0s 8ms/step - loss: 0.1672 - accuracy: 0.9866\n",
            "Epoch 210/300\n",
            "5/5 [==============================] - 0s 7ms/step - loss: 0.1657 - accuracy: 0.9866\n",
            "Epoch 211/300\n",
            "5/5 [==============================] - 0s 7ms/step - loss: 0.1638 - accuracy: 0.9866\n",
            "Epoch 212/300\n",
            "5/5 [==============================] - 0s 10ms/step - loss: 0.1622 - accuracy: 0.9866\n",
            "Epoch 213/300\n",
            "5/5 [==============================] - 0s 7ms/step - loss: 0.1609 - accuracy: 0.9866\n",
            "Epoch 214/300\n",
            "5/5 [==============================] - 0s 9ms/step - loss: 0.1602 - accuracy: 0.9866\n",
            "Epoch 215/300\n",
            "5/5 [==============================] - 0s 7ms/step - loss: 0.1580 - accuracy: 0.9866\n",
            "Epoch 216/300\n",
            "5/5 [==============================] - 0s 7ms/step - loss: 0.1559 - accuracy: 0.9866\n",
            "Epoch 217/300\n",
            "5/5 [==============================] - 0s 8ms/step - loss: 0.1542 - accuracy: 0.9866\n",
            "Epoch 218/300\n",
            "5/5 [==============================] - 0s 8ms/step - loss: 0.1532 - accuracy: 0.9866\n",
            "Epoch 219/300\n",
            "5/5 [==============================] - 0s 7ms/step - loss: 0.1513 - accuracy: 0.9866\n",
            "Epoch 220/300\n",
            "5/5 [==============================] - 0s 7ms/step - loss: 0.1498 - accuracy: 0.9866\n",
            "Epoch 221/300\n",
            "5/5 [==============================] - 0s 8ms/step - loss: 0.1486 - accuracy: 0.9866\n",
            "Epoch 222/300\n",
            "5/5 [==============================] - 0s 8ms/step - loss: 0.1471 - accuracy: 0.9866\n",
            "Epoch 223/300\n",
            "5/5 [==============================] - 0s 8ms/step - loss: 0.1456 - accuracy: 0.9866\n",
            "Epoch 224/300\n",
            "5/5 [==============================] - 0s 8ms/step - loss: 0.1442 - accuracy: 0.9866\n",
            "Epoch 225/300\n",
            "5/5 [==============================] - 0s 7ms/step - loss: 0.1429 - accuracy: 0.9866\n",
            "Epoch 226/300\n",
            "5/5 [==============================] - 0s 7ms/step - loss: 0.1415 - accuracy: 0.9866\n",
            "Epoch 227/300\n",
            "5/5 [==============================] - 0s 8ms/step - loss: 0.1403 - accuracy: 0.9866\n",
            "Epoch 228/300\n",
            "5/5 [==============================] - 0s 7ms/step - loss: 0.1389 - accuracy: 0.9866\n",
            "Epoch 229/300\n",
            "5/5 [==============================] - 0s 7ms/step - loss: 0.1376 - accuracy: 0.9866\n",
            "Epoch 230/300\n",
            "5/5 [==============================] - 0s 7ms/step - loss: 0.1364 - accuracy: 0.9866\n",
            "Epoch 231/300\n",
            "5/5 [==============================] - 0s 9ms/step - loss: 0.1351 - accuracy: 0.9866\n",
            "Epoch 232/300\n",
            "5/5 [==============================] - 0s 7ms/step - loss: 0.1339 - accuracy: 0.9866\n",
            "Epoch 233/300\n",
            "5/5 [==============================] - 0s 9ms/step - loss: 0.1326 - accuracy: 0.9866\n",
            "Epoch 234/300\n",
            "5/5 [==============================] - 0s 7ms/step - loss: 0.1314 - accuracy: 0.9866\n",
            "Epoch 235/300\n",
            "5/5 [==============================] - 0s 7ms/step - loss: 0.1302 - accuracy: 0.9866\n",
            "Epoch 236/300\n",
            "5/5 [==============================] - 0s 8ms/step - loss: 0.1292 - accuracy: 0.9866\n",
            "Epoch 237/300\n",
            "5/5 [==============================] - 0s 8ms/step - loss: 0.1281 - accuracy: 0.9866\n",
            "Epoch 238/300\n",
            "5/5 [==============================] - 0s 7ms/step - loss: 0.1268 - accuracy: 0.9866\n",
            "Epoch 239/300\n",
            "5/5 [==============================] - 0s 8ms/step - loss: 0.1258 - accuracy: 0.9866\n",
            "Epoch 240/300\n",
            "5/5 [==============================] - 0s 7ms/step - loss: 0.1245 - accuracy: 0.9933\n",
            "Epoch 241/300\n",
            "5/5 [==============================] - 0s 8ms/step - loss: 0.1234 - accuracy: 0.9933\n",
            "Epoch 242/300\n",
            "5/5 [==============================] - 0s 8ms/step - loss: 0.1225 - accuracy: 0.9933\n",
            "Epoch 243/300\n",
            "5/5 [==============================] - 0s 7ms/step - loss: 0.1213 - accuracy: 0.9933\n",
            "Epoch 244/300\n",
            "5/5 [==============================] - 0s 7ms/step - loss: 0.1203 - accuracy: 0.9933\n",
            "Epoch 245/300\n",
            "5/5 [==============================] - 0s 8ms/step - loss: 0.1192 - accuracy: 0.9933\n",
            "Epoch 246/300\n",
            "5/5 [==============================] - 0s 7ms/step - loss: 0.1182 - accuracy: 0.9933\n",
            "Epoch 247/300\n",
            "5/5 [==============================] - 0s 8ms/step - loss: 0.1170 - accuracy: 0.9933\n",
            "Epoch 248/300\n",
            "5/5 [==============================] - 0s 8ms/step - loss: 0.1160 - accuracy: 0.9933\n",
            "Epoch 249/300\n",
            "5/5 [==============================] - 0s 8ms/step - loss: 0.1156 - accuracy: 0.9933\n",
            "Epoch 250/300\n",
            "5/5 [==============================] - 0s 7ms/step - loss: 0.1143 - accuracy: 0.9933\n",
            "Epoch 251/300\n",
            "5/5 [==============================] - 0s 8ms/step - loss: 0.1132 - accuracy: 0.9933\n",
            "Epoch 252/300\n",
            "5/5 [==============================] - 0s 7ms/step - loss: 0.1124 - accuracy: 0.9933\n",
            "Epoch 253/300\n",
            "5/5 [==============================] - 0s 8ms/step - loss: 0.1116 - accuracy: 0.9933\n",
            "Epoch 254/300\n",
            "5/5 [==============================] - 0s 11ms/step - loss: 0.1103 - accuracy: 0.9933\n",
            "Epoch 255/300\n",
            "5/5 [==============================] - 0s 8ms/step - loss: 0.1095 - accuracy: 0.9933\n",
            "Epoch 256/300\n",
            "5/5 [==============================] - 0s 9ms/step - loss: 0.1085 - accuracy: 0.9933\n",
            "Epoch 257/300\n",
            "5/5 [==============================] - 0s 8ms/step - loss: 0.1077 - accuracy: 0.9933\n",
            "Epoch 258/300\n",
            "5/5 [==============================] - 0s 8ms/step - loss: 0.1069 - accuracy: 0.9933\n",
            "Epoch 259/300\n",
            "5/5 [==============================] - 0s 8ms/step - loss: 0.1058 - accuracy: 0.9933\n",
            "Epoch 260/300\n",
            "5/5 [==============================] - 0s 8ms/step - loss: 0.1050 - accuracy: 0.9933\n",
            "Epoch 261/300\n",
            "5/5 [==============================] - 0s 9ms/step - loss: 0.1049 - accuracy: 0.9933\n",
            "Epoch 262/300\n",
            "5/5 [==============================] - 0s 8ms/step - loss: 0.1037 - accuracy: 0.9933\n",
            "Epoch 263/300\n",
            "5/5 [==============================] - 0s 8ms/step - loss: 0.1028 - accuracy: 0.9933\n",
            "Epoch 264/300\n",
            "5/5 [==============================] - 0s 9ms/step - loss: 0.1023 - accuracy: 0.9933\n",
            "Epoch 265/300\n",
            "5/5 [==============================] - 0s 7ms/step - loss: 0.1010 - accuracy: 0.9933\n",
            "Epoch 266/300\n",
            "5/5 [==============================] - 0s 8ms/step - loss: 0.1004 - accuracy: 0.9933\n",
            "Epoch 267/300\n",
            "5/5 [==============================] - 0s 8ms/step - loss: 0.0996 - accuracy: 0.9933\n",
            "Epoch 268/300\n",
            "5/5 [==============================] - 0s 8ms/step - loss: 0.0988 - accuracy: 0.9933\n",
            "Epoch 269/300\n",
            "5/5 [==============================] - 0s 9ms/step - loss: 0.0982 - accuracy: 0.9933\n",
            "Epoch 270/300\n",
            "5/5 [==============================] - 0s 7ms/step - loss: 0.0974 - accuracy: 0.9933\n",
            "Epoch 271/300\n",
            "5/5 [==============================] - 0s 7ms/step - loss: 0.0965 - accuracy: 0.9933\n",
            "Epoch 272/300\n",
            "5/5 [==============================] - 0s 7ms/step - loss: 0.0959 - accuracy: 0.9933\n",
            "Epoch 273/300\n",
            "5/5 [==============================] - 0s 7ms/step - loss: 0.0951 - accuracy: 0.9933\n",
            "Epoch 274/300\n",
            "5/5 [==============================] - 0s 10ms/step - loss: 0.0943 - accuracy: 0.9933\n",
            "Epoch 275/300\n",
            "5/5 [==============================] - 0s 8ms/step - loss: 0.0939 - accuracy: 0.9866\n",
            "Epoch 276/300\n",
            "5/5 [==============================] - 0s 7ms/step - loss: 0.0933 - accuracy: 0.9866\n",
            "Epoch 277/300\n",
            "5/5 [==============================] - 0s 7ms/step - loss: 0.0928 - accuracy: 0.9866\n",
            "Epoch 278/300\n",
            "5/5 [==============================] - 0s 7ms/step - loss: 0.0916 - accuracy: 0.9933\n",
            "Epoch 279/300\n",
            "5/5 [==============================] - 0s 7ms/step - loss: 0.0912 - accuracy: 0.9933\n",
            "Epoch 280/300\n",
            "5/5 [==============================] - 0s 7ms/step - loss: 0.0904 - accuracy: 0.9933\n",
            "Epoch 281/300\n",
            "5/5 [==============================] - 0s 7ms/step - loss: 0.0897 - accuracy: 0.9933\n",
            "Epoch 282/300\n",
            "5/5 [==============================] - 0s 7ms/step - loss: 0.0893 - accuracy: 0.9933\n",
            "Epoch 283/300\n",
            "5/5 [==============================] - 0s 7ms/step - loss: 0.0884 - accuracy: 0.9933\n",
            "Epoch 284/300\n",
            "5/5 [==============================] - 0s 7ms/step - loss: 0.0878 - accuracy: 0.9933\n",
            "Epoch 285/300\n",
            "5/5 [==============================] - 0s 8ms/step - loss: 0.0872 - accuracy: 0.9933\n",
            "Epoch 286/300\n",
            "5/5 [==============================] - 0s 9ms/step - loss: 0.0866 - accuracy: 0.9933\n",
            "Epoch 287/300\n",
            "5/5 [==============================] - 0s 7ms/step - loss: 0.0860 - accuracy: 0.9933\n",
            "Epoch 288/300\n",
            "5/5 [==============================] - 0s 8ms/step - loss: 0.0853 - accuracy: 0.9933\n",
            "Epoch 289/300\n",
            "5/5 [==============================] - 0s 8ms/step - loss: 0.0847 - accuracy: 0.9933\n",
            "Epoch 290/300\n",
            "5/5 [==============================] - 0s 7ms/step - loss: 0.0840 - accuracy: 0.9933\n",
            "Epoch 291/300\n",
            "5/5 [==============================] - 0s 8ms/step - loss: 0.0836 - accuracy: 0.9933\n",
            "Epoch 292/300\n",
            "5/5 [==============================] - 0s 7ms/step - loss: 0.0831 - accuracy: 0.9933\n",
            "Epoch 293/300\n",
            "5/5 [==============================] - 0s 7ms/step - loss: 0.0825 - accuracy: 0.9933\n",
            "Epoch 294/300\n",
            "5/5 [==============================] - 0s 8ms/step - loss: 0.0819 - accuracy: 0.9933\n",
            "Epoch 295/300\n",
            "5/5 [==============================] - 0s 11ms/step - loss: 0.0815 - accuracy: 0.9933\n",
            "Epoch 296/300\n",
            "5/5 [==============================] - 0s 8ms/step - loss: 0.0806 - accuracy: 0.9933\n",
            "Epoch 297/300\n",
            "5/5 [==============================] - 0s 7ms/step - loss: 0.0801 - accuracy: 0.9933\n",
            "Epoch 298/300\n",
            "5/5 [==============================] - 0s 8ms/step - loss: 0.0795 - accuracy: 0.9933\n",
            "Epoch 299/300\n",
            "5/5 [==============================] - 0s 8ms/step - loss: 0.0792 - accuracy: 0.9933\n",
            "Epoch 300/300\n",
            "5/5 [==============================] - 0s 7ms/step - loss: 0.0787 - accuracy: 0.9933\n"
          ]
        }
      ]
    },
    {
      "cell_type": "code",
      "metadata": {
        "colab": {
          "base_uri": "https://localhost:8080/",
          "height": 282
        },
        "id": "VnR2fMbeUU8G",
        "outputId": "32098e01-076c-4a74-eb2a-74c8e72b96aa"
      },
      "source": [
        "plt.plot(train.history['accuracy'], label='training set accuracy')\n",
        "plt.plot(train.history['loss'], label='training set loss')\n",
        "plt.legend()"
      ],
      "execution_count": 15,
      "outputs": [
        {
          "output_type": "execute_result",
          "data": {
            "text/plain": [
              "<matplotlib.legend.Legend at 0x7fbc400364d0>"
            ]
          },
          "metadata": {},
          "execution_count": 15
        },
        {
          "output_type": "display_data",
          "data": {
            "image/png": "[encoded data removed]",
            "text/plain": [
              "<Figure size 432x288 with 1 Axes>"
            ]
          },
          "metadata": {
            "needs_background": "light"
          }
        }
      ]
    },
    {
      "cell_type": "code",
      "metadata": {
        "colab": {
          "base_uri": "https://localhost:8080/"
        },
        "id": "8vikPbloDHWP",
        "outputId": "1288e227-4230-43b0-9884-638dcf5d9075"
      },
      "source": [
        "save_model = \"Artour\"\n",
        "tf.saved_model.save(model, save_model)"
      ],
      "execution_count": 16,
      "outputs": [
        {
          "output_type": "stream",
          "name": "stderr",
          "text": [
            "WARNING:absl:Found untraced functions such as lstm_cell_layer_call_fn, lstm_cell_layer_call_and_return_conditional_losses, lstm_cell_layer_call_fn, lstm_cell_layer_call_and_return_conditional_losses, lstm_cell_layer_call_and_return_conditional_losses while saving (showing 5 of 5). These functions will not be directly callable after loading.\n"
          ]
        },
        {
          "output_type": "stream",
          "name": "stdout",
          "text": [
            "INFO:tensorflow:Assets written to: Artour/assets\n"
          ]
        },
        {
          "output_type": "stream",
          "name": "stderr",
          "text": [
            "INFO:tensorflow:Assets written to: Artour/assets\n"
          ]
        }
      ]
    },
    {
      "cell_type": "code",
      "metadata": {
        "id": "zxfpeeCqDpLj"
      },
      "source": [
        "model.save(\"Artour.h5\")"
      ],
      "execution_count": 17,
      "outputs": []
    },
    {
      "cell_type": "markdown",
      "metadata": {
        "id": "HCitDWt0oiyl"
      },
      "source": [
        "## Tahap 3 - Build a Chatbot\n",
        ">Menguji hasil prediksi chatbot yang sudah dilatih sebelumnya dengan pesan input yang baru."
      ]
    },
    {
      "cell_type": "code",
      "metadata": {
        "id": "g6RT2P2qc3Ve"
      },
      "source": [
        "# def chatbot_response(user):\n",
        "    \n",
        "#     # Preprocessing input_user\n",
        "#     step_1 = Case_Folding(user)\n",
        "#     step_2 = stemmer_ind(step_1)\n",
        "#     step_3 = stopwords_ind(step_2)\n",
        "\n",
        "#     # Tokenizing input_user\n",
        "#     token = tokenizer.texts_to_sequences([step_3])\n",
        "#     kalimat = pad_sequences(token,input_shape)\n",
        "\n",
        "#     # Predicting bot response\n",
        "#     output = model.predict(kalimat)\n",
        "#     response_tag = le.inverse_transform([output])[0]\n",
        "#     return (print(\"ARTour : \", random.choice(outputs[response_tag])))"
      ],
      "execution_count": 18,
      "outputs": []
    },
    {
      "cell_type": "code",
      "metadata": {
        "colab": {
          "base_uri": "https://localhost:8080/"
        },
        "id": "XGoVd-M3X7-O",
        "outputId": "18862dea-20c4-4ffa-c1fd-e5b254eb9e9b"
      },
      "source": [
        "print(\"ARTour Bot : Halo! Senang bertemu denganmu. Ketikan 'keluar' apabila ingin mengakhiri percakapan\")\n",
        "exit_list=['see u']\n",
        "\n",
        "while(True):\n",
        "    teks = []\n",
        "    user_input = input('You        : ')\n",
        "\n",
        "    if user_input.lower() in exit_list:\n",
        "        print('ARTour Bot : Terimakasih telah berkunjung. Selamat menikmati liburan Anda !')\n",
        "        break\n",
        "    else:\n",
        "        step_1 = Case_Folding(teks)\n",
        "        step_2 = stemmer_ind(step_1)\n",
        "        step_3 = stopwords_ind(step_2)\n",
        "\n",
        "        token = tokenizer.texts_to_sequences([step_3])\n",
        "        kalimat = pad_sequences(token,input_shape)\n",
        "\n",
        "        output = model.predict(kalimat)\n",
        "        output = output.argmax()\n",
        "\n",
        "        response_tag = le.inverse_transform([output])[0]\n",
        "        # print(f\"ARTour Bot : {output}\")\n",
        "        print(\"ARTour Bot :\", random.choice(outputs[response_tag]))"
      ],
      "execution_count": 21,
      "outputs": [
        {
          "output_type": "stream",
          "name": "stdout",
          "text": [
            "ARTour Bot : Halo! Senang bertemu denganmu. Ketikan 'keluar' apabila ingin mengakhiri percakapan\n",
            "You        : halo\n",
            "ARTour Bot : Ada yang ingin kamu tanyakan, ARTourist?\n",
            "You        : bye\n",
            "ARTour Bot : Ada apa ARTourist?\n",
            "You        : see u\n",
            "ARTour Bot : Terimakasih telah berkunjung. Selamat menikmati liburan Anda !\n"
          ]
        }
      ]
    }
  ]
}