{
  "nbformat": 4,
  "nbformat_minor": 0,
  "metadata": {
    "colab": {
      "name": "Artour-Chatbot(TFIDF).ipynb",
      "provenance": []
    },
    "kernelspec": {
      "name": "python3",
      "display_name": "Python 3"
    },
    "language_info": {
      "name": "python"
    }
  },
  "cells": [
    {
      "cell_type": "markdown",
      "metadata": {
        "id": "B1t0VIwwkezR"
      },
      "source": [
        "<center> <img src= 'https://lh3.googleusercontent.com/proxy/xmavbuZOLLP6QirEy66UCTsKB7P9JQ8sG1VJ8J2tnXyfFSNXfeOZqiibCdq5rXq5AK5n8-EP' />"
      ]
    },
    {
      "cell_type": "markdown",
      "metadata": {
        "id": "1c2tNOB4lKk6"
      },
      "source": [
        "# Membuat Chatbot - Bahasa Indonesia\n",
        "Chatbot merupakan aplikasi berbasis AI yang dapat memahami bahasa manusia melalui pesan teks maupun suara. Dalam hal ini kita spesifikasikan tujuan penggunaan chatbot sebagai pemandu wisata untuk Anda yang ingin menjelajah indahnya Nusantara."
      ]
    },
    {
      "cell_type": "code",
      "metadata": {
        "id": "TlsOKdNZ-Fl7"
      },
      "source": [
        "import json\n",
        "import random\n",
        "import re\n",
        "import string\n",
        "\n",
        "from sklearn.feature_extraction.text import TfidfVectorizer\n",
        "from sklearn.metrics.pairwise import cosine_similarity\n",
        "import pandas as pd"
      ],
      "execution_count": 1,
      "outputs": []
    },
    {
      "cell_type": "code",
      "metadata": {
        "id": "V-cme5cf-K2k"
      },
      "source": [
        "with open('artour-4.json') as artour:\n",
        "  data = json.load(artour)"
      ],
      "execution_count": 2,
      "outputs": []
    },
    {
      "cell_type": "code",
      "metadata": {
        "id": "HK50jSRj-0B8"
      },
      "source": [
        "tags = []\n",
        "inputs = []\n",
        "outputs = {}\n",
        "for intent in data['intents']:\n",
        "  outputs[intent['tag']]=intent['output']\n",
        "  for lines in intent['input']:\n",
        "    inputs.append(lines)\n",
        "    tags.append(intent['tag'])"
      ],
      "execution_count": 3,
      "outputs": []
    },
    {
      "cell_type": "code",
      "metadata": {
        "id": "RqOTT6x3Y405"
      },
      "source": [
        "# Case Folding\n",
        "def Case_Folding (users):\n",
        "    a = [a.lower() for a in users]\n",
        "    b = [b.strip() for b in a]\n",
        "    c = [re.sub(r\"\\d+\", \"\", c) for c in b]\n",
        "    d = [d.translate(str.maketrans(\"\",\"\",string.punctuation)) for d in c] \n",
        "    return d\n",
        "inputs = Case_Folding(inputs)"
      ],
      "execution_count": 4,
      "outputs": []
    },
    {
      "cell_type": "code",
      "metadata": {
        "colab": {
          "base_uri": "https://localhost:8080/"
        },
        "id": "O8m-vfWcW3ns",
        "outputId": "1cde4372-77fa-4b60-ae4f-b12999adc192"
      },
      "source": [
        "print(\"ARTour : Selamat Datang ARTourist!\")\n",
        "while True:\n",
        "  teks = []\n",
        "  user_input = input('You    : ')\n",
        "  teks.append(user_input)\n",
        "  tfidf_vectorizer = TfidfVectorizer(analyzer=\"char\")\n",
        "  sparse_matrix = tfidf_vectorizer.fit_transform([user_input]+inputs)\n",
        "  cosine = cosine_similarity(sparse_matrix[0,:],sparse_matrix[1:,:])\n",
        "  save = pd.DataFrame({'cosine':cosine[0],'tags':tags,'strings':inputs}).sort_values('cosine',ascending=False)\n",
        "  value = max(cosine[0])\n",
        "  if(value <= 0.7):\n",
        "    print(\"ARTour : Artour tidak mengerti, boleh diulangi pertanyaannya?\")\n",
        "  else:\n",
        "    robo = save['tags'].iloc[0]\n",
        "    value_list = outputs[robo]\n",
        "    if(robo != 'keluar'):\n",
        "       print(\"ARTour :\", random.choice(value_list))\n",
        "    else:\n",
        "       print(\"ARTour :\", random.choice(value_list))\n",
        "       break"
      ],
      "execution_count": 30,
      "outputs": [
        {
          "output_type": "stream",
          "name": "stdout",
          "text": [
            "ARTour : Selamat Datang ARTourist!\n",
            "You    : halooo\n",
            "ARTour : Selamat datang di ARTour~\n",
            "You    : apa kab\n",
            "ARTour : Sangat baik! Terus kunjungi ARTour ya!\n",
            "You    : sudah makan?\n",
            "ARTour : Artour tidak mengerti, boleh diulangi pertanyaannya?\n",
            "You    : yaudah dadah\n",
            "ARTour : Sampai jumpa di Prambanan ARTourist :)\n"
          ]
        }
      ]
    }
  ]
}